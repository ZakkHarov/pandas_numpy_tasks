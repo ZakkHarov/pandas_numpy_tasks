{
 "cells": [
  {
   "cell_type": "markdown",
   "id": "d3df79dd",
   "metadata": {},
   "source": [
    "## Упражнения по библиотеке Numpy"
   ]
  },
  {
   "cell_type": "code",
   "execution_count": 54,
   "id": "76b9c43b",
   "metadata": {},
   "outputs": [],
   "source": [
    "import numpy as np"
   ]
  },
  {
   "cell_type": "markdown",
   "id": "03727b7c",
   "metadata": {},
   "source": [
    "**1.** Дан случайный массив, поменять знак у элементов, значения которых между 3 и 8"
   ]
  },
  {
   "cell_type": "code",
   "execution_count": 55,
   "id": "b89a7523",
   "metadata": {},
   "outputs": [
    {
     "name": "stdout",
     "output_type": "stream",
     "text": [
      "[77.33341136 51.92536353 15.8256369  92.16897013 18.36024873 77.38009885\n",
      " 71.99913049 98.27206357 35.5610121  12.39594797 18.8843927  21.50272727\n",
      " 68.38522834 65.36888426 11.59936557 17.0364901  28.65877015 45.48918255\n",
      " 30.81966824 86.91660962 74.59425227 97.04573314 48.10832716 24.8220681\n",
      " 14.19784078 72.47904253 78.41353969 73.90763496  6.52534244 28.43659253\n",
      " 36.4615389  95.16568044 76.06427853 49.9044228  70.12462306 37.20288247\n",
      " 75.40289431 89.37307787 18.90025939 31.44552045 87.82653277 24.07688948\n",
      " 11.04834937 33.44786046 63.88969293 71.37130753 37.79869516  3.60933253\n",
      " 79.05972132 26.36089209 91.6344748  57.96454401  8.77526053 82.86879494\n",
      " 30.61754665 88.07467575 61.28034589 32.11942038  0.73996173  3.71050058\n",
      " 71.08878474  1.7786477  12.5159306  24.00529374  0.15913874 52.4634019\n",
      " 66.99889925 23.80471359 66.42421481 58.41331252 36.50736444 38.9459111\n",
      " 16.69749423 94.02473646 79.9499458  91.35356096 56.58301824 11.85296479\n",
      " 18.94973116 37.05174782 83.32109086 61.94036038 51.21925357 30.54533964\n",
      " 57.76413519  3.38180145 66.87836837 20.56240857  1.96705451 95.26615695\n",
      " 66.45321469 89.50338413 18.04087399 11.54703176 18.57070088 60.17452426\n",
      " 46.74748016 69.54169987 36.8397775  62.122335  ]\n",
      "[77.33341136 51.92536353 15.8256369  92.16897013 18.36024873 77.38009885\n",
      " 71.99913049 98.27206357 35.5610121  12.39594797 18.8843927  21.50272727\n",
      " 68.38522834 65.36888426 11.59936557 17.0364901  28.65877015 45.48918255\n",
      " 30.81966824 86.91660962 74.59425227 97.04573314 48.10832716 24.8220681\n",
      " 14.19784078 72.47904253 78.41353969 73.90763496 -6.52534244 28.43659253\n",
      " 36.4615389  95.16568044 76.06427853 49.9044228  70.12462306 37.20288247\n",
      " 75.40289431 89.37307787 18.90025939 31.44552045 87.82653277 24.07688948\n",
      " 11.04834937 33.44786046 63.88969293 71.37130753 37.79869516 -3.60933253\n",
      " 79.05972132 26.36089209 91.6344748  57.96454401  8.77526053 82.86879494\n",
      " 30.61754665 88.07467575 61.28034589 32.11942038  0.73996173 -3.71050058\n",
      " 71.08878474  1.7786477  12.5159306  24.00529374  0.15913874 52.4634019\n",
      " 66.99889925 23.80471359 66.42421481 58.41331252 36.50736444 38.9459111\n",
      " 16.69749423 94.02473646 79.9499458  91.35356096 56.58301824 11.85296479\n",
      " 18.94973116 37.05174782 83.32109086 61.94036038 51.21925357 30.54533964\n",
      " 57.76413519 -3.38180145 66.87836837 20.56240857  1.96705451 95.26615695\n",
      " 66.45321469 89.50338413 18.04087399 11.54703176 18.57070088 60.17452426\n",
      " 46.74748016 69.54169987 36.8397775  62.122335  ]\n"
     ]
    }
   ],
   "source": [
    "a = np.random.random(100)*100\n",
    "print(a)\n",
    "\n",
    "for idx, x in enumerate(a):\n",
    "    if(3<x<8):\n",
    "        a[idx]=x*(-1)\n",
    "\n",
    "print(a)\n",
    "\n"
   ]
  },
  {
   "cell_type": "markdown",
   "id": "5fa4abda",
   "metadata": {},
   "source": [
    "**2.** Заменить максимальный элемент случайного массива на 0"
   ]
  },
  {
   "cell_type": "code",
   "execution_count": 56,
   "id": "f2788a6e",
   "metadata": {},
   "outputs": [
    {
     "name": "stdout",
     "output_type": "stream",
     "text": [
      "[61.00845125 81.9047022  81.46715637 55.21317414  8.48606639 69.2155379\n",
      " 22.35772054 11.66715675  0.98559064 67.0858833  61.66700357  2.19818765\n",
      " 62.30717061 16.40380993 51.7319112  63.74125167 96.14122033 46.37610115\n",
      " 30.86332363 69.56773203 50.18060059 72.96343755 74.3424238  95.08013891\n",
      " 60.4140837  72.6996847  41.45608458  6.86117696 76.17681714 81.93134544\n",
      " 39.52492752 40.00416926 34.68042803 70.52576307 14.46351207 58.88933812\n",
      " 33.67117584 53.04173675  2.64468655 72.76241166]\n",
      "[61.00845125 81.9047022  81.46715637 55.21317414  8.48606639 69.2155379\n",
      " 22.35772054 11.66715675  0.98559064 67.0858833  61.66700357  2.19818765\n",
      " 62.30717061 16.40380993 51.7319112  63.74125167  0.         46.37610115\n",
      " 30.86332363 69.56773203 50.18060059 72.96343755 74.3424238  95.08013891\n",
      " 60.4140837  72.6996847  41.45608458  6.86117696 76.17681714 81.93134544\n",
      " 39.52492752 40.00416926 34.68042803 70.52576307 14.46351207 58.88933812\n",
      " 33.67117584 53.04173675  2.64468655 72.76241166]\n"
     ]
    }
   ],
   "source": [
    "a = np.random.random(40)*100\n",
    "print(a)\n",
    "\n",
    "max_index = np.argmax(a)\n",
    "a[max_index] = 0\n",
    "\n",
    "print(a)\n"
   ]
  },
  {
   "cell_type": "markdown",
   "id": "3cac656b",
   "metadata": {},
   "source": [
    "**3.** Построить прямое произведение массивов (все комбинации с каждым элементом). На вход подается двумерный массив"
   ]
  },
  {
   "cell_type": "code",
   "execution_count": 57,
   "id": "3396b764",
   "metadata": {},
   "outputs": [
    {
     "data": {
      "text/plain": [
       "array([[1, 6],\n",
       "       [1, 7],\n",
       "       [1, 8],\n",
       "       [1, 9],\n",
       "       [2, 6],\n",
       "       [2, 7],\n",
       "       [2, 8],\n",
       "       [2, 9],\n",
       "       [3, 6],\n",
       "       [3, 7],\n",
       "       [3, 8],\n",
       "       [3, 9],\n",
       "       [4, 6],\n",
       "       [4, 7],\n",
       "       [4, 8],\n",
       "       [4, 9],\n",
       "       [5, 6],\n",
       "       [5, 7],\n",
       "       [5, 8],\n",
       "       [5, 9]])"
      ]
     },
     "execution_count": 57,
     "metadata": {},
     "output_type": "execute_result"
    }
   ],
   "source": [
    "\n",
    "def cartesian(arrays):\n",
    "    arrays = [np.asarray(a) for a in arrays]\n",
    "    shape = map(len, arrays)\n",
    "    \n",
    "    ix = np.indices(shape, dtype=int) \n",
    "    ix = ix.reshape(len(arrays), -1).T\n",
    "    \n",
    "    for n, arr in enumerate(arrays):\n",
    "        ix[:, n] = arrays[n][ix[:, n]]\n",
    "\n",
    "    return ix\n",
    "\n",
    "cartesian([[1,2,3,4,5], [6,7,8,9]])"
   ]
  },
  {
   "cell_type": "markdown",
   "id": "674c9354",
   "metadata": {},
   "source": [
    "**4.** Даны 2 массива A (8x3) и B (2x2). Найти строки в A, которые содержат элементы из каждой строки в B, независимо от порядка элементов в B"
   ]
  },
  {
   "cell_type": "code",
   "execution_count": 79,
   "id": "cb664782",
   "metadata": {},
   "outputs": [
    {
     "name": "stdout",
     "output_type": "stream",
     "text": [
      "Array 1:\n",
      "[[1 2 0]\n",
      " [1 1 7]\n",
      " [1 3 8]\n",
      " [9 2 5]\n",
      " [2 7 6]\n",
      " [6 4 4]\n",
      " [9 7 5]\n",
      " [7 2 8]]\n",
      "Array 2:\n",
      "[[3 9]\n",
      " [5 6]]\n",
      "Rows #: [3, 6]\n"
     ]
    }
   ],
   "source": [
    "m1 = 8\n",
    "n1 = 3\n",
    "m2 = 2\n",
    "n2 = 2\n",
    "\n",
    "array1 = np.random.randint(0,11,(m1,n1))\n",
    "print(\"Array 1:\")\n",
    "print(array1)\n",
    "array2 = np.random.randint(0,11,(m2,n2))\n",
    "print(\"Array 2:\")\n",
    "print(array2)\n",
    "\n",
    "array3 = array1[...,np.newaxis,np.newaxis]==array2\n",
    "rows = []\n",
    "for idx, x in enumerate(array3.sum(axis=(1,3))):\n",
    "    if x[0]>=1 and x[1]>=1:\n",
    "        rows.append(idx)\n",
    "print(\"Rows #:\",rows)\n"
   ]
  },
  {
   "cell_type": "markdown",
   "id": "fa46533b",
   "metadata": {},
   "source": [
    "**5.** Дана 10x3 матрица, найти строки из неравных значений (например строка [2,2,3] остается, строка [3,3,3] удаляется)"
   ]
  },
  {
   "cell_type": "code",
   "execution_count": 91,
   "id": "fa545b23",
   "metadata": {},
   "outputs": [
    {
     "name": "stdout",
     "output_type": "stream",
     "text": [
      "Start:\n",
      "[[2 4 4]\n",
      " [3 3 0]\n",
      " [1 0 0]\n",
      " [3 2 4]\n",
      " [0 1 1]\n",
      " [2 2 2]\n",
      " [2 2 3]\n",
      " [0 4 2]\n",
      " [0 1 3]\n",
      " [1 3 4]]\n",
      "Finish:\n",
      "[[2 4 4]\n",
      " [3 3 0]\n",
      " [1 0 0]\n",
      " [3 2 4]\n",
      " [0 1 1]\n",
      " [2 2 3]\n",
      " [0 4 2]\n",
      " [0 1 3]\n",
      " [1 3 4]]\n"
     ]
    }
   ],
   "source": [
    "m = 10\n",
    "n = 3\n",
    "mtrx = np.random.randint(0,5,(m,n))\n",
    "print(\"Start:\")\n",
    "print(mtrx)\n",
    "idxs=[]\n",
    "for i in range(len(mtrx)):\n",
    "    if(mtrx[i][0]==mtrx[i][1]==mtrx[i][2]): \n",
    "        idxs.append(i)\n",
    "mtrx = np.delete(mtrx,idxs,axis=0)\n",
    "print(\"Finish:\")     \n",
    "print(mtrx)"
   ]
  },
  {
   "cell_type": "markdown",
   "id": "28f0d116",
   "metadata": {},
   "source": [
    "**6.** Дан двумерный массив. Удалить те строки, которые повторяются"
   ]
  },
  {
   "cell_type": "code",
   "execution_count": 60,
   "id": "83d2c0b7",
   "metadata": {},
   "outputs": [
    {
     "name": "stdout",
     "output_type": "stream",
     "text": [
      "Array\n",
      "[[3 2]\n",
      " [4 2]\n",
      " [3 3]\n",
      " [2 2]\n",
      " [3 4]\n",
      " [0 1]\n",
      " [2 4]\n",
      " [3 1]\n",
      " [1 2]\n",
      " [0 1]]\n",
      "Unique array\n",
      "[[3 2]\n",
      " [4 2]\n",
      " [3 3]\n",
      " [2 2]\n",
      " [3 4]\n",
      " [0 1]\n",
      " [2 4]\n",
      " [3 1]\n",
      " [1 2]]\n"
     ]
    }
   ],
   "source": [
    "m = 10\n",
    "n = 2\n",
    "\n",
    "array = np.random.randint(0,5,(m,n))\n",
    "print(\"Array\")\n",
    "print(array)\n",
    "unique_array, idx = np.unique(array,axis=0,return_index=True)\n",
    "result = unique_array[idx.argsort()]\n",
    "print(\"Unique array\")\n",
    "print(result)"
   ]
  },
  {
   "cell_type": "markdown",
   "id": "6daa9e37",
   "metadata": {},
   "source": [
    "______\n",
    "______"
   ]
  },
  {
   "cell_type": "markdown",
   "id": "cfbfcaff",
   "metadata": {},
   "source": [
    "Для каждой из следующих задач (1-5) нужно привести 2 реализации – одна без использования numpy (cчитайте, что там, где на входе или выходе должны быть numpy array, будут просто списки), а вторая полностью векторизованная с использованием numpy (без использования питоновских циклов/map/list comprehension).\n",
    "\n",
    "\n",
    "__Замечание 1.__ Можно считать, что все указанные объекты непустые (к примеру, в __задаче 1__ на диагонали матрицы есть ненулевые элементы).\n",
    "\n",
    "__Замечание 2.__ Для большинства задач решение занимает не больше 1-2 строк."
   ]
  },
  {
   "cell_type": "markdown",
   "id": "673cac7f",
   "metadata": {},
   "source": [
    "___"
   ]
  },
  {
   "cell_type": "markdown",
   "id": "ca6f585e",
   "metadata": {},
   "source": [
    "* __Задача 1__: Подсчитать произведение ненулевых элементов на диагонали прямоугольной матрицы.  \n",
    " Например, для X = np.array([[1, 0, 1], [2, 0, 2], [3, 0, 3], [4, 4, 4]]) ответ 3."
   ]
  },
  {
   "cell_type": "code",
   "execution_count": 61,
   "id": "065862fc",
   "metadata": {},
   "outputs": [
    {
     "name": "stdout",
     "output_type": "stream",
     "text": [
      "3\n",
      "3\n"
     ]
    }
   ],
   "source": [
    "# Вариант 1:\n",
    "\n",
    "Y = [[1, 0, 1], [2, 0, 2], [3, 0, 3], [4, 4, 4]]\n",
    "d = min(len(Y),len(Y[0]))\n",
    "result1 = 1\n",
    "for i in range(d):\n",
    "    if(Y[i][i]!=0):\n",
    "        result1 *= Y[i][i]\n",
    "print(result1)\n",
    "\n",
    "# Вариант 2:\n",
    "X = np.array([[1, 0, 1], [2, 0, 2], [3, 0, 3], [4, 4, 4]])\n",
    "result2 = np.prod(np.diag(X)[np.diag(X)!=0])\n",
    "print(result2)"
   ]
  },
  {
   "cell_type": "markdown",
   "id": "9fc51d41",
   "metadata": {},
   "source": [
    "* __Задача 2__: Даны два вектора x и y. Проверить, задают ли они одно и то же мультимножество.  \n",
    "  Например, для x = np.array([1, 2, 2, 4]), y = np.array([4, 2, 1, 2]) ответ True."
   ]
  },
  {
   "cell_type": "code",
   "execution_count": 62,
   "id": "a809e02f",
   "metadata": {},
   "outputs": [
    {
     "name": "stdout",
     "output_type": "stream",
     "text": [
      "True\n",
      "True\n"
     ]
    }
   ],
   "source": [
    "# Вариант 1:\n",
    "x1 = [1,2,2,4]\n",
    "y1 = [4,2,1,2]\n",
    "\n",
    "def are_equal1(x,y):\n",
    "    if(len(x) != len(y)):\n",
    "        return False\n",
    "    x.sort()\n",
    "    y.sort()\n",
    "    for i in range(len(x)):\n",
    "        if(x[i] != y[i]):\n",
    "            return False\n",
    "    return True\n",
    "\n",
    "print(are_equal1(x1, y1))\n",
    "    \n",
    "# Вариант 2:\n",
    "\n",
    "x2 = np.array([1,2,2,4])\n",
    "y2 = np.array([4,2,1,2])\n",
    "\n",
    "def are_equal2(x,y):\n",
    "    x_elements, x_counts = np.unique(x,return_counts=True)\n",
    "    y_elements, y_counts = np.unique(y,return_counts=True)\n",
    "    if(np.shape(x_elements) != np.shape(y_elements)):\n",
    "        return False\n",
    "    if(np.any(x_elements != y_elements) or np.any(x_counts != y_counts)):\n",
    "        return False\n",
    "    return True\n",
    "\n",
    "print(are_equal2(x2,y2))\n"
   ]
  },
  {
   "cell_type": "markdown",
   "id": "b9c185c7",
   "metadata": {},
   "source": [
    "* __Задача 3__: Найти максимальный элемент в векторе x среди элементов, перед которыми стоит ноль. \n",
    " Например, для x = np.array([6, 2, 0, 3, 0, 0, 5, 7, 0]) ответ 5."
   ]
  },
  {
   "cell_type": "code",
   "execution_count": 63,
   "id": "b57df008",
   "metadata": {},
   "outputs": [
    {
     "name": "stdout",
     "output_type": "stream",
     "text": [
      "5\n",
      "5\n"
     ]
    }
   ],
   "source": [
    "# Вариант 1:\n",
    "x1 = [6, 2, 0, 3, 0, 0, 5, 7, 0]\n",
    "\n",
    "def max_element_before_zero1(x):\n",
    "    after_zero_list = []\n",
    "    for i in range(1,len(x)):\n",
    "        if(x[i-1]==0):\n",
    "            after_zero_list.append(x[i])\n",
    "    return max(after_zero_list)\n",
    "    \n",
    "print(max_element_before_zero1(x1))\n",
    "\n",
    "# Вариант 1:\n",
    "x2 = np.array([6, 2, 0, 3, 0, 0, 5, 7, 0])\n",
    "\n",
    "def max_element_before_zero2(x):\n",
    "    zero = x==0\n",
    "    return np.max(x[1:][zero[:-1]])\n",
    "\n",
    "print(max_element_before_zero2(x2))"
   ]
  },
  {
   "cell_type": "markdown",
   "id": "480be4ce",
   "metadata": {},
   "source": [
    "* __Задача 4__: Реализовать кодирование длин серий (Run-length encoding). Для некоторого вектора x необходимо вернуть кортеж из двух векторов одинаковой длины. Первый содержит числа, а второй - сколько раз их нужно повторить.  \n",
    " Например, для x = np.array([2, 2, 2, 3, 3, 3, 5]) ответ (np.array([2, 3, 5]), np.array([3, 3, 1]))."
   ]
  },
  {
   "cell_type": "code",
   "execution_count": 64,
   "id": "3c592124",
   "metadata": {},
   "outputs": [
    {
     "name": "stdout",
     "output_type": "stream",
     "text": [
      "([2, 3, 5], [3, 3, 1])\n",
      "(array([2, 3, 5]), array([3, 3, 1]))\n"
     ]
    }
   ],
   "source": [
    "# Вариант 1:\n",
    "x1 = [2, 2, 2, 3, 3, 3, 5]\n",
    "\n",
    "def run_length_encoding(x):\n",
    "    values = [x[0]]\n",
    "    counts = []\n",
    "    counter = 1\n",
    "    for i in range(1,len(x1)):\n",
    "        if(x1[i-1] == x1[i]):\n",
    "            counter+=1\n",
    "        else:\n",
    "            values.append(x[i])\n",
    "            counts.append(counter)\n",
    "            counter = 1\n",
    "    counts.append(counter)\n",
    "    return(values,counts)\n",
    "\n",
    "print(run_length_encoding(x1))\n",
    "\n",
    "\n",
    "\n",
    "\n",
    "# Вариант 2:\n",
    "x2 = np.array([2, 2, 2, 3, 3, 3, 5])\n",
    "\n",
    "print(np.unique(x2,return_counts=True))\n"
   ]
  },
  {
   "cell_type": "markdown",
   "id": "077532ec",
   "metadata": {},
   "source": [
    "* __Задача 5__: Даны две выборки объектов - X и Y. Вычислить матрицу евклидовых расстояний между объектами. Сравните с функцией scipy.spatial.distance.cdist по скорости работы."
   ]
  },
  {
   "cell_type": "code",
   "execution_count": 65,
   "id": "1e807797",
   "metadata": {},
   "outputs": [
    {
     "name": "stdout",
     "output_type": "stream",
     "text": [
      "[[5.656854249492381, 8.48528137423857], [2.8284271247461903, 5.656854249492381]]\n",
      "[[5.65685425 8.48528137]\n",
      " [2.82842712 5.65685425]]\n",
      "Not numpy:  0.619308400018781 msec\n",
      "Numpy:  0.09054999991349177 msec\n",
      "Cdist:  0.07861670001148013 msec\n"
     ]
    }
   ],
   "source": [
    "# Вариант 1:\n",
    "x1=[[1,2],[3,4]]\n",
    "y1=[[5,6],[7,8]]\n",
    "\n",
    "import math\n",
    "def evklid_distance1(x,y):\n",
    "    evklid_mtrx = []\n",
    "    for i in range(len(x)):\n",
    "        z = []\n",
    "        for j in range(len(y)):\n",
    "            dist = 0\n",
    "            for k in range(len(x[0])):\n",
    "                dist += (x[i][k]-y[j][k])**2\n",
    "            z.append(math.sqrt(dist))\n",
    "        evklid_mtrx.append(z)\n",
    "    return evklid_mtrx\n",
    "\n",
    "print(evklid_distance1(x1,y1))\n",
    "\n",
    "\n",
    "# Вариант 2:\n",
    "x2=np.array([[1,2],[3,4]])\n",
    "y2=np.array([[5,6],[7,8]])\n",
    "\n",
    "def evklid_distance2(x,y):\n",
    "    return np.sqrt(np.sum((x[:, np.newaxis] - y) ** 2, axis=-1))\n",
    "\n",
    "print(evklid_distance2(x2,y2))\n",
    "\n",
    "from scipy.spatial.distance import cdist\n",
    "import timeit\n",
    "\n",
    "size = 10\n",
    "loops = 10\n",
    "\n",
    "M = np.random.randint(-10,10,(size, size))\n",
    "N = np.random.randint(-10,10,(size, size))\n",
    "start = timeit.default_timer()\n",
    "for i in range(0,loops,1):\n",
    "    evklid_distance1(M,N)\n",
    "end = timeit.default_timer()\n",
    "print(\"Not numpy: \",(end-start)*1000/loops, \"msec\")\n",
    "\n",
    "start = timeit.default_timer()\n",
    "for i in range(0,loops,1):\n",
    "    evklid_distance2(M,N)\n",
    "end = timeit.default_timer()\n",
    "print(\"Numpy: \",(end-start)*1000/loops, \"msec\")\n",
    "\n",
    "start = timeit.default_timer()\n",
    "for i in range(0,loops,1):\n",
    "   cdist(M,N,metric='euclidean')\n",
    "end = timeit.default_timer()\n",
    "print(\"Cdist: \",(end-start)*1000/loops, \"msec\")\n",
    "\n"
   ]
  },
  {
   "cell_type": "markdown",
   "id": "973e8064",
   "metadata": {},
   "source": [
    "_______\n",
    "________"
   ]
  },
  {
   "cell_type": "markdown",
   "id": "1104acb7",
   "metadata": {},
   "source": [
    "* #### __Задача 6__: CrunchieMunchies __*__\n",
    "\n",
    "Вы работаете в отделе маркетинга пищевой компании MyCrunch, которая разрабатывает новый вид вкусных, полезных злаков под названием **CrunchieMunchies**.\n",
    "\n",
    "Вы хотите продемонстрировать потребителям, насколько полезны ваши хлопья по сравнению с другими ведущими брендами, поэтому вы собрали данные о питании нескольких разных конкурентов.\n",
    "\n",
    "Ваша задача - использовать вычисления Numpy для анализа этих данных и доказать, что ваши **СrunchieMunchies** - самый здоровый выбор для потребителей.\n"
   ]
  },
  {
   "cell_type": "code",
   "execution_count": 66,
   "id": "10a77f8d",
   "metadata": {},
   "outputs": [],
   "source": [
    "import numpy as np"
   ]
  },
  {
   "cell_type": "markdown",
   "id": "ab87cb03",
   "metadata": {},
   "source": [
    "1. Просмотрите файл cereal.csv. Этот файл содержит количества калорий для различных марок хлопьев. Загрузите данные из файла и сохраните их как calorie_stats."
   ]
  },
  {
   "cell_type": "code",
   "execution_count": 67,
   "id": "9681ebf2",
   "metadata": {},
   "outputs": [
    {
     "data": {
      "text/plain": [
       "array([ 70., 120.,  70.,  50., 110., 110., 110., 130.,  90.,  90., 120.,\n",
       "       110., 120., 110., 110., 110., 100., 110., 110., 110., 100., 110.,\n",
       "       100., 100., 110., 110., 100., 120., 120., 110., 100., 110., 100.,\n",
       "       110., 120., 120., 110., 110., 110., 140., 110., 100., 110., 100.,\n",
       "       150., 150., 160., 100., 120., 140.,  90., 130., 120., 100.,  50.,\n",
       "        50., 100., 100., 120., 100.,  90., 110., 110.,  80.,  90.,  90.,\n",
       "       110., 110.,  90., 110., 140., 100., 110., 110., 100., 100., 110.])"
      ]
     },
     "execution_count": 67,
     "metadata": {},
     "output_type": "execute_result"
    }
   ],
   "source": [
    "calorie_stats = np.loadtxt(\"./data/cereal.csv\", delimiter=\",\")\n",
    "calorie_stats"
   ]
  },
  {
   "cell_type": "markdown",
   "id": "139cfbd8",
   "metadata": {},
   "source": [
    "2. В одной порции CrunchieMunchies содержится 60 калорий. Насколько выше среднее количество калорий у ваших конкурентов?\n",
    "\n",
    "Сохраните ответ в переменной average_calories и распечатайте переменную в терминале"
   ]
  },
  {
   "cell_type": "code",
   "execution_count": 68,
   "id": "7036d240",
   "metadata": {},
   "outputs": [
    {
     "name": "stdout",
     "output_type": "stream",
     "text": [
      "106.88311688311688\n"
     ]
    }
   ],
   "source": [
    "average_calories = np.average(calorie_stats)\n",
    "print(average_calories)"
   ]
  },
  {
   "cell_type": "markdown",
   "id": "b2ddb4cd",
   "metadata": {},
   "source": [
    "3. Корректно ли среднее количество калорий отражает распределение набора данных? Давайте отсортируем данные и посмотрим.\n",
    "\n",
    "Отсортируйте данные и сохраните результат в переменной calorie_stats_sorted. Распечатайте отсортированную информацию"
   ]
  },
  {
   "cell_type": "code",
   "execution_count": 69,
   "id": "46eeb4ed",
   "metadata": {},
   "outputs": [
    {
     "name": "stdout",
     "output_type": "stream",
     "text": [
      "[ 50.  50.  50.  70.  70.  80.  90.  90.  90.  90.  90.  90.  90. 100.\n",
      " 100. 100. 100. 100. 100. 100. 100. 100. 100. 100. 100. 100. 100. 100.\n",
      " 100. 100. 110. 110. 110. 110. 110. 110. 110. 110. 110. 110. 110. 110.\n",
      " 110. 110. 110. 110. 110. 110. 110. 110. 110. 110. 110. 110. 110. 110.\n",
      " 110. 110. 110. 120. 120. 120. 120. 120. 120. 120. 120. 120. 120. 130.\n",
      " 130. 140. 140. 140. 150. 150. 160.]\n"
     ]
    }
   ],
   "source": [
    "calorie_stats_sorted = np.sort(calorie_stats)\n",
    "print(calorie_stats_sorted)"
   ]
  },
  {
   "cell_type": "markdown",
   "id": "4dc74116",
   "metadata": {},
   "source": [
    "4. Похоже, что большинство значений выше среднего. Давайте посмотрим, является ли медиана наиболее корректным показателем набора данных.\n",
    "\n",
    "Вычислите медиану набора данных и сохраните свой ответ в median_calories. Выведите медиану, чтобы вы могли видеть, как она сравнивается со средним значением."
   ]
  },
  {
   "cell_type": "code",
   "execution_count": 70,
   "id": "b56627c3",
   "metadata": {},
   "outputs": [
    {
     "name": "stdout",
     "output_type": "stream",
     "text": [
      "110.0\n"
     ]
    }
   ],
   "source": [
    "median_calories = np.median(calorie_stats_sorted)\n",
    "print(median_calories)"
   ]
  },
  {
   "cell_type": "markdown",
   "id": "a63ab72f",
   "metadata": {},
   "source": [
    "5. В то время как медиана показывает, что по крайней мере половина наших значений составляет более 100 калорий, было бы более впечатляюще показать, что значительная часть конкурентов имеет более высокое количество калорий, чем CrunchieMunchies.\n",
    "\n",
    "Рассчитайте различные процентили и распечатайте их, пока не найдете наименьший процентиль, превышающий 60 калорий. Сохраните это значение в переменной nth_percentile."
   ]
  },
  {
   "cell_type": "code",
   "execution_count": 71,
   "id": "fe80ce03",
   "metadata": {},
   "outputs": [
    {
     "name": "stdout",
     "output_type": "stream",
     "text": [
      "Percentile  98 : 150.0\n",
      "Percentile  96 : 140.0\n",
      "Percentile  94 : 140.0\n",
      "Percentile  92 : 130.0\n",
      "Percentile  90 : 124.00000000000006\n",
      "Percentile  88 : 120.0\n",
      "Percentile  86 : 120.0\n",
      "Percentile  84 : 120.0\n",
      "Percentile  82 : 120.0\n",
      "Percentile  80 : 120.0\n",
      "Percentile  78 : 120.0\n",
      "Percentile  76 : 110.0\n",
      "Percentile  74 : 110.0\n",
      "Percentile  72 : 110.0\n",
      "Percentile  70 : 110.0\n",
      "Percentile  68 : 110.0\n",
      "Percentile  66 : 110.0\n",
      "Percentile  64 : 110.0\n",
      "Percentile  62 : 110.0\n",
      "Percentile  60 : 110.0\n",
      "Percentile  58 : 110.0\n",
      "Percentile  56 : 110.0\n",
      "Percentile  54 : 110.0\n",
      "Percentile  52 : 110.0\n",
      "Percentile  50 : 110.0\n",
      "Percentile  48 : 110.0\n",
      "Percentile  46 : 110.0\n",
      "Percentile  44 : 110.0\n",
      "Percentile  42 : 110.0\n",
      "Percentile  40 : 110.0\n",
      "Percentile  38 : 100.0\n",
      "Percentile  36 : 100.0\n",
      "Percentile  34 : 100.0\n",
      "Percentile  32 : 100.0\n",
      "Percentile  30 : 100.0\n",
      "Percentile  28 : 100.0\n",
      "Percentile  26 : 100.0\n",
      "Percentile  24 : 100.0\n",
      "Percentile  22 : 100.0\n",
      "Percentile  20 : 100.0\n",
      "Percentile  18 : 100.0\n",
      "Percentile  16 : 91.6\n",
      "Percentile  14 : 90.0\n",
      "Percentile  12 : 90.0\n",
      "Percentile  10 : 90.0\n",
      "Percentile  8 : 90.0\n",
      "Percentile  6 : 75.6\n",
      "Percentile  4 : 70.0\n",
      "Result: 4\n"
     ]
    }
   ],
   "source": [
    "q = 98\n",
    "step = 2\n",
    "while np.percentile(calorie_stats_sorted,q)>=60:\n",
    "    print(\"Percentile \",q,\":\",np.percentile(calorie_stats_sorted,q))\n",
    "    q-=step\n",
    "\n",
    "nth_percentile = q+step\n",
    "print(\"Result:\",nth_percentile)"
   ]
  },
  {
   "cell_type": "markdown",
   "id": "a2a3c5aa",
   "metadata": {},
   "source": [
    "6. Хотя процентиль показывает нам, что у большинства конкурентов количество калорий намного выше, это неудобная концепция для использования в маркетинговых материалах.\n",
    "\n",
    "Вместо этого давайте подсчитаем процент хлопьев, в которых содержится более 60 калорий на порцию. Сохраните свой ответ в переменной more_calories и распечатайте его"
   ]
  },
  {
   "cell_type": "code",
   "execution_count": 72,
   "id": "ade0f6ea",
   "metadata": {},
   "outputs": [
    {
     "name": "stdout",
     "output_type": "stream",
     "text": [
      "0.961038961038961 %\n"
     ]
    }
   ],
   "source": [
    "more_calories = np.count_nonzero(calorie_stats_sorted > 60)/calorie_stats_sorted.size\n",
    "print(more_calories, \"%\")\n"
   ]
  },
  {
   "cell_type": "markdown",
   "id": "1735d65b",
   "metadata": {},
   "source": [
    "7. Это действительно высокий процент. Это будет очень полезно, когда мы будем продвигать CrunchieMunchies. Но один вопрос заключается в том, насколько велики различия в наборе данных? Можем ли мы сделать обобщение, что в большинстве злаков содержится около 100 калорий или разброс еще больше?\n",
    "\n",
    "Рассчитайте величину отклонения, найдя стандартное отклонение, Сохраните свой ответ в calorie_std и распечатайте на терминале. Как мы можем включить эту ценность в наш анализ?"
   ]
  },
  {
   "cell_type": "code",
   "execution_count": 73,
   "id": "85c8df1f",
   "metadata": {},
   "outputs": [
    {
     "name": "stdout",
     "output_type": "stream",
     "text": [
      "19.35718533390827\n"
     ]
    }
   ],
   "source": [
    "calorie_std = np.std(calorie_stats_sorted)\n",
    "print(calorie_std)"
   ]
  },
  {
   "cell_type": "markdown",
   "id": "037455c5",
   "metadata": {},
   "source": [
    "8. Напишите короткий абзац, в котором кратко изложите свои выводы и то, как, по вашему мнению, эти данные могут быть использованы в интересах Mycrunch при маркетинге CrunchieMunchies."
   ]
  },
  {
   "cell_type": "code",
   "execution_count": 74,
   "id": "c260fee9",
   "metadata": {},
   "outputs": [],
   "source": [
    "# Из рассчетов видно, что данные довольно сильно разбросаны. Стандартное отклоение около 20 при среднем 106. Значение средней величины не стоит использовать при маркетинге CrunchieMunchies. При оценке среднего стоит полагаться на медиану.\n",
    "# Наиболее выигрышным выглядит использование процента хлопьев, калорийность которых превышает калорийность CrunchieMunchies. (96%)"
   ]
  }
 ],
 "metadata": {
  "kernelspec": {
   "display_name": "Python 3.9.12 ('base')",
   "language": "python",
   "name": "python3"
  },
  "language_info": {
   "codemirror_mode": {
    "name": "ipython",
    "version": 3
   },
   "file_extension": ".py",
   "mimetype": "text/x-python",
   "name": "python",
   "nbconvert_exporter": "python",
   "pygments_lexer": "ipython3",
   "version": "3.9.12"
  },
  "vscode": {
   "interpreter": {
    "hash": "998311bd90f98a9621e4ee4e37c9fc019b933a92eeb46241f23a04cf2dec75a7"
   }
  }
 },
 "nbformat": 4,
 "nbformat_minor": 5
}
